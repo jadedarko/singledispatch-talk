{
 "cells": [
  {
   "cell_type": "code",
   "execution_count": 1,
   "metadata": {
    "slideshow": {
     "slide_type": "slide"
    },
    "tags": []
   },
   "outputs": [],
   "source": [
    "def myfunction1(input: str | int) -> str:\n",
    "    \"\"\"\n",
    "    This function says hello.\n",
    "\n",
    "    If provided with a string or a callable that emits a string\n",
    "    If provided with an integer, it instead says hello that many times.\n",
    "    \"\"\"\n",
    "    if isinstance(input, str):\n",
    "        return f\"Hello {input}!\"\n",
    "    return f'{\" \".join([\"Hello\" for i in range(input)])}!'"
   ]
  },
  {
   "cell_type": "code",
   "execution_count": null,
   "metadata": {
    "slideshow": {
     "slide_type": "slide"
    },
    "tags": []
   },
   "outputs": [],
   "source": [
    "print(myfunction1(\"world\"))\n",
    "print(myfunction1(3))"
   ]
  },
  {
   "cell_type": "code",
   "execution_count": 2,
   "metadata": {
    "slideshow": {
     "slide_type": "slide"
    },
    "tags": []
   },
   "outputs": [
    {
     "name": "stdout",
     "output_type": "stream",
     "text": [
      "Hello world!\n",
      "Hello Hello Hello!\n"
     ]
    }
   ],
   "source": [
    "print(myfunction1(\"world\"))\n",
    "print(myfunction1(3))"
   ]
  },
  {
   "cell_type": "code",
   "execution_count": 3,
   "metadata": {
    "slideshow": {
     "slide_type": "slide"
    },
    "tags": []
   },
   "outputs": [],
   "source": [
    "from functools import singledispatch\n",
    "\n",
    "@singledispatch\n",
    "def myfunction2(input: str | int) -> str:\n",
    "    \"\"\"\n",
    "    This function says hello.\n",
    "\n",
    "    If provided with a string or a callable that emits a string\n",
    "    If provided with an integer, it instead says hello that many times.\n",
    "    \"\"\"\n",
    "    raise TypeError(\"Unexpected argument type!\")"
   ]
  },
  {
   "cell_type": "code",
   "execution_count": null,
   "metadata": {
    "slideshow": {
     "slide_type": "slide"
    },
    "tags": []
   },
   "outputs": [],
   "source": [
    "try:\n",
    "    print(myfunction2(\"everybody\"))\n",
    "except TypeError as ex:\n",
    "    print(ex)"
   ]
  },
  {
   "cell_type": "code",
   "execution_count": 4,
   "metadata": {
    "slideshow": {
     "slide_type": "slide"
    },
    "tags": []
   },
   "outputs": [
    {
     "name": "stdout",
     "output_type": "stream",
     "text": [
      "Unexpected argument type!\n"
     ]
    }
   ],
   "source": [
    "try:\n",
    "    print(myfunction2(\"everybody\"))\n",
    "except TypeError as ex:\n",
    "    print(ex)"
   ]
  },
  {
   "cell_type": "code",
   "execution_count": 5,
   "metadata": {
    "slideshow": {
     "slide_type": "slide"
    },
    "tags": []
   },
   "outputs": [],
   "source": [
    "@myfunction2.register\n",
    "def _myfunction_str(input: str) -> str:\n",
    "    return f\"Hello {input}!\"\n",
    "\n",
    "@myfunction2.register\n",
    "def _myfunction_int(input: int) -> str:\n",
    "    return f'{\" \".join([\"Hello\" for i in range(input)])}!'"
   ]
  },
  {
   "cell_type": "code",
   "execution_count": null,
   "metadata": {
    "slideshow": {
     "slide_type": "slide"
    },
    "tags": []
   },
   "outputs": [],
   "source": [
    "print(myfunction2(\"world\"))\n",
    "print(myfunction2(3))"
   ]
  },
  {
   "cell_type": "code",
   "execution_count": 6,
   "metadata": {
    "slideshow": {
     "slide_type": "slide"
    },
    "tags": []
   },
   "outputs": [
    {
     "name": "stdout",
     "output_type": "stream",
     "text": [
      "Hello world!\n",
      "Hello Hello Hello!\n"
     ]
    }
   ],
   "source": [
    "print(myfunction2(\"world\"))\n",
    "print(myfunction2(3))"
   ]
  },
  {
   "cell_type": "code",
   "execution_count": null,
   "metadata": {
    "slideshow": {
     "slide_type": "slide"
    },
    "tags": []
   },
   "outputs": [],
   "source": [
    "try:\n",
    "    print(myfunction2(3.4))\n",
    "except TypeError as ex:\n",
    "    print(ex)"
   ]
  },
  {
   "cell_type": "code",
   "execution_count": 7,
   "metadata": {
    "slideshow": {
     "slide_type": "slide"
    },
    "tags": []
   },
   "outputs": [
    {
     "name": "stdout",
     "output_type": "stream",
     "text": [
      "Unexpected argument type!\n"
     ]
    }
   ],
   "source": [
    "try:\n",
    "    print(myfunction2(3.4))\n",
    "except TypeError as ex:\n",
    "    print(ex)"
   ]
  },
  {
   "cell_type": "code",
   "execution_count": 8,
   "metadata": {
    "slideshow": {
     "slide_type": "slide"
    },
    "tags": []
   },
   "outputs": [],
   "source": [
    "@myfunction2.register\n",
    "def _myfunction_numeric(input: float) -> str:\n",
    "    return _myfunction_int(int(input))"
   ]
  },
  {
   "cell_type": "code",
   "execution_count": null,
   "metadata": {
    "slideshow": {
     "slide_type": "slide"
    },
    "tags": []
   },
   "outputs": [],
   "source": [
    "print(myfunction2(4.2))"
   ]
  },
  {
   "cell_type": "code",
   "execution_count": 9,
   "metadata": {
    "slideshow": {
     "slide_type": "slide"
    },
    "tags": []
   },
   "outputs": [
    {
     "name": "stdout",
     "output_type": "stream",
     "text": [
      "Hello Hello Hello Hello!\n"
     ]
    }
   ],
   "source": [
    "print(myfunction2(4.2))"
   ]
  }
 ],
 "metadata": {
  "kernelspec": {
   "display_name": "Python 3 (ipykernel)",
   "language": "python",
   "name": "python3"
  },
  "language_info": {
   "codemirror_mode": {
    "name": "ipython",
    "version": 3
   },
   "file_extension": ".py",
   "mimetype": "text/x-python",
   "name": "python",
   "nbconvert_exporter": "python",
   "pygments_lexer": "ipython3",
   "version": "3.10.8"
  },
  "vscode": {
   "interpreter": {
    "hash": "2f394003970b1a48c12176c07b500dd1b2590f6d8a3659dc7b40c745e5848367"
   }
  }
 },
 "nbformat": 4,
 "nbformat_minor": 4
}
